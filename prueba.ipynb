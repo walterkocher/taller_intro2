{
 "cells": [
  {
   "cell_type": "code",
   "execution_count": 3,
   "id": "9d01e00a",
   "metadata": {},
   "outputs": [
    {
     "name": "stdout",
     "output_type": "stream",
     "text": [
      "BQAmWkcPfEj9z2Ynob0fdAf0gMdcWOBRV-wvauTnvVvRu9Naq0ZgnjQeqoNOGpjoFakXm8P_bgZqzAc0-Q7GSsRItshTxCDzKhh13d0HDs9Hc-SRidp1Ekhu0_dhx9BkyuHsf04_nGo\n"
     ]
    }
   ],
   "source": [
    "import requests\n",
    "\n",
    "#Nuestras credenciales\n",
    "client_id = \"931d7d4218dc436b9e30b0ad300d487e\"\n",
    "client_secret = \"9ebf32e882de4f8aaffd1b3a0d9235c3\"\n",
    "\n",
    "#URL para obtencion de tokens\n",
    "url = \"https://accounts.spotify.com/api/token\"\n",
    "#Headers necesarios para la request\n",
    "headers = {\n",
    "    \"Content-Type\": \"application/x-www-form-urlencoded\"\n",
    "}\n",
    "#Datos a enviar en la request, aqui van las credenciales\n",
    "data = {\n",
    "    \"grant_type\": \"client_credentials\",\n",
    "    \"client_id\": client_id,\n",
    "    \"client_secret\": client_secret\n",
    "}\n",
    "\n",
    "#Hacemos la request\n",
    "response = requests.post(url, headers=headers, data=data)\n",
    "\n",
    "#Guardamos el token\n",
    "access_token = response.json().get(\"access_token\")\n",
    "\n",
    "#Mostramos el resultado\n",
    "print(access_token)"
   ]
  },
  {
   "cell_type": "code",
   "execution_count": 4,
   "id": "80830045",
   "metadata": {},
   "outputs": [
    {
     "name": "stdout",
     "output_type": "stream",
     "text": [
      "{\n",
      "    \"external_urls\": {\n",
      "        \"spotify\": \"https://open.spotify.com/artist/1vCWHaC5f2uS3yhpwWbIA6\"\n",
      "    },\n",
      "    \"followers\": {\n",
      "        \"href\": null,\n",
      "        \"total\": 23530128\n",
      "    },\n",
      "    \"genres\": [\n",
      "        \"edm\"\n",
      "    ],\n",
      "    \"href\": \"https://api.spotify.com/v1/artists/1vCWHaC5f2uS3yhpwWbIA6\",\n",
      "    \"id\": \"1vCWHaC5f2uS3yhpwWbIA6\",\n",
      "    \"images\": [\n",
      "        {\n",
      "            \"url\": \"https://i.scdn.co/image/ab6761610000e5ebae07171f989fb39736674113\",\n",
      "            \"height\": 640,\n",
      "            \"width\": 640\n",
      "        },\n",
      "        {\n",
      "            \"url\": \"https://i.scdn.co/image/ab67616100005174ae07171f989fb39736674113\",\n",
      "            \"height\": 320,\n",
      "            \"width\": 320\n",
      "        },\n",
      "        {\n",
      "            \"url\": \"https://i.scdn.co/image/ab6761610000f178ae07171f989fb39736674113\",\n",
      "            \"height\": 160,\n",
      "            \"width\": 160\n",
      "        }\n",
      "    ],\n",
      "    \"name\": \"Avicii\",\n",
      "    \"popularity\": 84,\n",
      "    \"type\": \"artist\",\n",
      "    \"uri\": \"spotify:artist:1vCWHaC5f2uS3yhpwWbIA6\"\n",
      "}\n"
     ]
    }
   ],
   "source": [
    "#Biblioteca para formatear json, sólo necesaria por claridad\n",
    "import json\n",
    "\n",
    "#Necesitamos la id del artista para poder obtener su información. Para ésto podemos irnos a un artista en spotify, clickear los tres puntos y copiar su id.\n",
    "artist_id = \"1vCWHaC5f2uS3yhpwWbIA6\"\n",
    "url_artist = f\"https://api.spotify.com/v1/artists/{artist_id}\"\n",
    "headers_artist = {\n",
    "    \"Authorization\": f\"Bearer {access_token}\"\n",
    "}\n",
    "\n",
    "response_artist = requests.get(url_artist, headers=headers_artist)\n",
    "\n",
    "print(json.dumps(response_artist.json(), indent=4))"
   ]
  }
 ],
 "metadata": {
  "kernelspec": {
   "display_name": ".venv",
   "language": "python",
   "name": "python3"
  },
  "language_info": {
   "codemirror_mode": {
    "name": "ipython",
    "version": 3
   },
   "file_extension": ".py",
   "mimetype": "text/x-python",
   "name": "python",
   "nbconvert_exporter": "python",
   "pygments_lexer": "ipython3",
   "version": "3.13.3"
  }
 },
 "nbformat": 4,
 "nbformat_minor": 5
}
