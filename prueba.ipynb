{
 "cells": [
  {
   "cell_type": "code",
   "execution_count": null,
   "id": "9d01e00a",
   "metadata": {},
   "outputs": [],
   "source": [
    "import requests\n",
    "\n",
    "#Nuestras credenciales\n",
    "client_id = \"\"\n",
    "client_secret = \"\"\n",
    "\n",
    "#URL para obtencion de tokens\n",
    "url = \"https://accounts.spotify.com/api/token\"\n",
    "#Headers necesarios para la request\n",
    "headers = {\n",
    "    \"Content-Type\": \"application/x-www-form-urlencoded\"\n",
    "}\n",
    "#Datos a enviar en la request, aqui van las credenciales\n",
    "data = {\n",
    "    \"grant_type\": \"client_credentials\",\n",
    "    \"client_id\": client_id,\n",
    "    \"client_secret\": client_secret\n",
    "}\n",
    "\n",
    "#Hacemos la request\n",
    "response = requests.post(url, headers=headers, data=data)\n",
    "\n",
    "#Guardamos el token\n",
    "access_token = response.json().get(\"access_token\")\n",
    "\n",
    "#Mostramos el resultado\n",
    "print(access_token)"
   ]
  },
  {
   "cell_type": "code",
   "execution_count": null,
   "id": "80830045",
   "metadata": {},
   "outputs": [],
   "source": [
    "#Biblioteca para formatear json, sólo necesaria por claridad\n",
    "import json\n",
    "\n",
    "#Necesitamos la id del artista para poder obtener su información. Para ésto podemos irnos a un artista en spotify, clickear los tres puntos y copiar su id.\n",
    "artist_id = \"1vCWHaC5f2uS3yhpwWbIA6\"\n",
    "url_artist = f\"https://api.spotify.com/v1/artists/{artist_id}\"\n",
    "headers_artist = {\n",
    "    \"Authorization\": f\"Bearer {access_token}\"\n",
    "}\n",
    "\n",
    "response_artist = requests.get(url_artist, headers=headers_artist)\n",
    "\n",
    "print(json.dumps(response_artist.json(), indent=4))"
   ]
  }
 ],
 "metadata": {
  "kernelspec": {
   "display_name": ".venv",
   "language": "python",
   "name": "python3"
  },
  "language_info": {
   "codemirror_mode": {
    "name": "ipython",
    "version": 3
   },
   "file_extension": ".py",
   "mimetype": "text/x-python",
   "name": "python",
   "nbconvert_exporter": "python",
   "pygments_lexer": "ipython3",
   "version": "3.13.3"
  }
 },
 "nbformat": 4,
 "nbformat_minor": 5
}
